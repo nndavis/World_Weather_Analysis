{
 "cells": [
  {
   "cell_type": "code",
   "execution_count": 21,
   "id": "4d4971f3",
   "metadata": {},
   "outputs": [],
   "source": [
    "# Import the random module\n",
    "\n",
    "import random\n",
    "from citipy import citipy"
   ]
  },
  {
   "cell_type": "code",
   "execution_count": 5,
   "id": "b98fd79c",
   "metadata": {},
   "outputs": [
    {
     "data": {
      "text/plain": [
       "-31"
      ]
     },
     "execution_count": 5,
     "metadata": {},
     "output_type": "execute_result"
    }
   ],
   "source": [
    "random.randint(-90,90)"
   ]
  },
  {
   "cell_type": "code",
   "execution_count": 6,
   "id": "bb513395",
   "metadata": {},
   "outputs": [
    {
     "data": {
      "text/plain": [
       "0.6042168979075457"
      ]
     },
     "execution_count": 6,
     "metadata": {},
     "output_type": "execute_result"
    }
   ],
   "source": [
    "random.random()"
   ]
  },
  {
   "cell_type": "code",
   "execution_count": 7,
   "id": "aeb6cd65",
   "metadata": {},
   "outputs": [
    {
     "data": {
      "text/plain": [
       "3.748842834090277"
      ]
     },
     "execution_count": 7,
     "metadata": {},
     "output_type": "execute_result"
    }
   ],
   "source": [
    "random_number = random.randint(-90,89) + random.random()\n",
    "random_number"
   ]
  },
  {
   "cell_type": "code",
   "execution_count": 8,
   "id": "d0f0f928",
   "metadata": {},
   "outputs": [],
   "source": [
    "# Create random list of latitudes\n",
    "x = 1\n",
    "latitudes = []\n",
    "while x < 11:\n",
    "    random_lat = random.randint(-90, 89) + random.random()\n",
    "    latitudes.append(random_lat)\n",
    "    x += 1"
   ]
  },
  {
   "cell_type": "code",
   "execution_count": 9,
   "id": "0096f1af",
   "metadata": {},
   "outputs": [
    {
     "data": {
      "text/plain": [
       "[-59.563526723554105,\n",
       " 58.60925218634024,\n",
       " -74.15759398000299,\n",
       " 75.02407025358954,\n",
       " -7.578770765255326,\n",
       " 50.20876293951653,\n",
       " -82.49302006055602,\n",
       " -24.853596545978323,\n",
       " -6.981880114615711,\n",
       " -6.350694504479282]"
      ]
     },
     "execution_count": 9,
     "metadata": {},
     "output_type": "execute_result"
    }
   ],
   "source": [
    "latitudes"
   ]
  },
  {
   "cell_type": "code",
   "execution_count": 10,
   "id": "027fdd15",
   "metadata": {},
   "outputs": [
    {
     "data": {
      "text/plain": [
       "-11"
      ]
     },
     "execution_count": 10,
     "metadata": {},
     "output_type": "execute_result"
    }
   ],
   "source": [
    "random.randrange(-90, 90, step=1)"
   ]
  },
  {
   "cell_type": "code",
   "execution_count": 11,
   "id": "00375c52",
   "metadata": {},
   "outputs": [
    {
     "data": {
      "text/plain": [
       "24"
      ]
     },
     "execution_count": 11,
     "metadata": {},
     "output_type": "execute_result"
    }
   ],
   "source": [
    "random.randrange(-90, 90, step=3)"
   ]
  },
  {
   "cell_type": "code",
   "execution_count": 12,
   "id": "8b4b3ea5",
   "metadata": {},
   "outputs": [
    {
     "data": {
      "text/plain": [
       "89.49779580108927"
      ]
     },
     "execution_count": 12,
     "metadata": {},
     "output_type": "execute_result"
    }
   ],
   "source": [
    "random.uniform(-90, 90)"
   ]
  },
  {
   "cell_type": "code",
   "execution_count": 13,
   "id": "295b8d46",
   "metadata": {},
   "outputs": [],
   "source": [
    "# Import numpy\n",
    "import numpy as np"
   ]
  },
  {
   "cell_type": "code",
   "execution_count": 14,
   "id": "2ba48ee0",
   "metadata": {},
   "outputs": [
    {
     "data": {
      "text/plain": [
       "array([-37.2069157 , -78.04167397, -16.03697633, -39.40795533,\n",
       "       -44.9715516 ,  -1.43484721, -29.7008761 , -27.5180518 ,\n",
       "        40.04442708,  40.89969958,  87.55439415, -80.55431703,\n",
       "        -3.71063213,  23.50244496, -55.62773665,  47.40323871,\n",
       "       -43.06469526,  17.45243682, -37.99676494,  -3.8069923 ,\n",
       "        15.21368662, -22.59804793,  80.23184296, -22.77005107,\n",
       "       -50.38765655, -34.41467261,  49.54638821, -72.7751333 ,\n",
       "       -38.25915352, -72.29758695,  16.34579927,  15.88611319,\n",
       "       -39.03696459,  79.86187838, -42.22539685,  26.33316448,\n",
       "        60.92726221,  30.92736075,   9.62746323, -26.86642848,\n",
       "       -67.53450739, -27.40866053,  37.87297454,  62.90779019,\n",
       "        15.36687006,  34.03724818, -89.42687666,  75.53434993,\n",
       "       -53.28711014, -79.81854042])"
      ]
     },
     "execution_count": 14,
     "metadata": {},
     "output_type": "execute_result"
    }
   ],
   "source": [
    "np.random.uniform(-90.000, 90.000, size=50)"
   ]
  },
  {
   "cell_type": "code",
   "execution_count": 15,
   "id": "6c391f83",
   "metadata": {},
   "outputs": [],
   "source": [
    "#import timeit\n",
    "import timeit"
   ]
  },
  {
   "cell_type": "code",
   "execution_count": 16,
   "id": "43e85f53",
   "metadata": {},
   "outputs": [
    {
     "name": "stdout",
     "output_type": "stream",
     "text": [
      "9.88 µs ± 120 ns per loop (mean ± std. dev. of 7 runs, 100,000 loops each)\n"
     ]
    }
   ],
   "source": [
    "%timeit np.random.uniform(-90.000, 90.000, size=1500)"
   ]
  },
  {
   "cell_type": "code",
   "execution_count": 17,
   "id": "eab28f2e",
   "metadata": {},
   "outputs": [
    {
     "name": "stdout",
     "output_type": "stream",
     "text": [
      "951 µs ± 830 ns per loop (mean ± std. dev. of 7 runs, 1,000 loops each)\n"
     ]
    }
   ],
   "source": [
    "def latitudes(size):\n",
    "    \n",
    "    latitudes = []\n",
    "    \n",
    "    x= 0\n",
    "    \n",
    "    while x < (size):\n",
    "        \n",
    "        random_lat = random.randint(-90, 90) + random.random()\n",
    "        \n",
    "        latitudes.append(random_lat)\n",
    "        \n",
    "        x += 1\n",
    "        \n",
    "    return latitudes\n",
    "\n",
    "# Call the function with 1500\n",
    "\n",
    "%timeit latitudes(1500)"
   ]
  },
  {
   "cell_type": "code",
   "execution_count": 18,
   "id": "f53caf14",
   "metadata": {},
   "outputs": [
    {
     "data": {
      "text/plain": [
       "<zip at 0x232679a6200>"
      ]
     },
     "execution_count": 18,
     "metadata": {},
     "output_type": "execute_result"
    }
   ],
   "source": [
    "# Create a set of random lat and lon combinations\n",
    "\n",
    "lats = np.random.uniform(low=-90.000, high=90.000, size=1500)\n",
    "\n",
    "lngs = np.random.uniform(low=-180.000, high=180.000, size=1500)\n",
    "\n",
    "lat_lngs = zip(lats, lngs)\n",
    "\n",
    "lat_lngs"
   ]
  },
  {
   "cell_type": "code",
   "execution_count": 19,
   "id": "19e1c698",
   "metadata": {},
   "outputs": [],
   "source": [
    "# Add the latitudes and longitudes to a list.\n",
    "\n",
    "coordinates = list(lat_lngs)"
   ]
  },
  {
   "cell_type": "code",
   "execution_count": 22,
   "id": "09b730ed",
   "metadata": {},
   "outputs": [
    {
     "data": {
      "text/plain": [
       "591"
      ]
     },
     "execution_count": 22,
     "metadata": {},
     "output_type": "execute_result"
    }
   ],
   "source": [
    "# Create a list for holding the cities.\n",
    "cities = []\n",
    "\n",
    "# Identify the nearest city for each latitude and longitude combination.\n",
    "\n",
    "for coordinate in coordinates:\n",
    "    city = citipy.nearest_city(coordinate[0], coordinate[1]).city_name\n",
    "\n",
    "    # If the city is unique, then we will add it to the cities list.\n",
    "    \n",
    "    if city not in cities:\n",
    "        cities.append(city)\n",
    "        \n",
    "# Print the city count to confirm sufficient count.\n",
    "len(cities)"
   ]
  },
  {
   "cell_type": "code",
   "execution_count": null,
   "id": "c8052588",
   "metadata": {},
   "outputs": [],
   "source": []
  }
 ],
 "metadata": {
  "kernelspec": {
   "display_name": "PythonData",
   "language": "python",
   "name": "pythondata"
  },
  "language_info": {
   "codemirror_mode": {
    "name": "ipython",
    "version": 3
   },
   "file_extension": ".py",
   "mimetype": "text/x-python",
   "name": "python",
   "nbconvert_exporter": "python",
   "pygments_lexer": "ipython3",
   "version": "3.9.12"
  }
 },
 "nbformat": 4,
 "nbformat_minor": 5
}
